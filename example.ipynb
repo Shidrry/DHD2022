{
 "cells": [
  {
   "cell_type": "code",
   "execution_count": null,
   "metadata": {},
   "outputs": [],
   "source": [
    "import pandas as pd\n",
    "\n",
    "from train.LGBMClassifier import *\n",
    "from sklearn.model_selection import train_test_split"
   ]
  },
  {
   "attachments": {},
   "cell_type": "markdown",
   "metadata": {},
   "source": [
    "Import example data"
   ]
  },
  {
   "cell_type": "code",
   "execution_count": null,
   "metadata": {},
   "outputs": [],
   "source": [
    "iris = pd.read_csv('https://raw.githubusercontent.com/mwaskom/seaborn-data/master/iris.csv')\n",
    "iris.head()"
   ]
  },
  {
   "cell_type": "code",
   "execution_count": null,
   "metadata": {},
   "outputs": [],
   "source": [
    "X = iris[iris.columns[:3]]\n",
    "y = iris['species'].apply(lambda x: 1 if x=='setosa' else 0)\n",
    "x_train, x_test, y_train, y_test = train_test_split(X, y, stratify=y)"
   ]
  },
  {
   "cell_type": "markdown",
   "metadata": {},
   "source": [
    "Training Example"
   ]
  },
  {
   "cell_type": "code",
   "execution_count": null,
   "metadata": {},
   "outputs": [],
   "source": [
    "## デフォルトのパラメータでモデルをつくる\n",
    "model = LGBMClassifier()\n",
    "\n",
    "## 学習\n",
    "model.train(x_train,y_train)\n",
    "\n",
    "## ラベル予測\n",
    "predicted_label = model.predict(x_test)\n",
    "\n",
    "## 分類確率の予測\n",
    "predicted_proba = model.predict_proba(x_test)"
   ]
  },
  {
   "cell_type": "code",
   "execution_count": null,
   "metadata": {},
   "outputs": [],
   "source": [
    "## 適当なパラメータを設定してモデルをつくる\n",
    "params = {\n",
    "    'n_estimators': 5\n",
    "}\n",
    "model_with_params = LGBMClassifier(params)\n",
    "\n",
    "model_with_params.train(x_train, y_train)"
   ]
  },
  {
   "cell_type": "code",
   "execution_count": null,
   "metadata": {},
   "outputs": [],
   "source": [
    "## CVしてモデルを作成\n",
    "model_cv = LGBMClassifier()\n",
    "\n",
    "param_distributions = {\n",
    "    'learning_rate': optuna.distributions.LogUniformDistribution(0.009, 0.01),\n",
    "    'max_bin': optuna.distributions.IntUniformDistribution(100, 200)\n",
    "}\n",
    "\n",
    "model_cv.tune_and_train(x_train, y_train, param_distributions, n_cv=3)"
   ]
  },
  {
   "attachments": {},
   "cell_type": "markdown",
   "metadata": {},
   "source": [
    "F1 score"
   ]
  },
  {
   "cell_type": "code",
   "execution_count": null,
   "metadata": {},
   "outputs": [],
   "source": [
    "print(model.return_score(x_test, y_test))\n",
    "print(model_with_params.return_score(x_test, y_test))\n",
    "print(model_cv.return_score(x_test, y_test))"
   ]
  },
  {
   "attachments": {},
   "cell_type": "markdown",
   "metadata": {},
   "source": [
    "save & load model"
   ]
  },
  {
   "cell_type": "code",
   "execution_count": null,
   "metadata": {},
   "outputs": [],
   "source": [
    "model_cv.save_model('model.sav')"
   ]
  },
  {
   "cell_type": "code",
   "execution_count": null,
   "metadata": {},
   "outputs": [],
   "source": [
    "model_cv_load = joblib.load('model.sav')"
   ]
  },
  {
   "cell_type": "code",
   "execution_count": null,
   "metadata": {},
   "outputs": [],
   "source": [
    "print(model_cv_load.return_score(x_test, y_test))"
   ]
  }
 ],
 "metadata": {
  "kernelspec": {
   "display_name": ".venv",
   "language": "python",
   "name": "python3"
  },
  "language_info": {
   "codemirror_mode": {
    "name": "ipython",
    "version": 3
   },
   "file_extension": ".py",
   "mimetype": "text/x-python",
   "name": "python",
   "nbconvert_exporter": "python",
   "pygments_lexer": "ipython3",
   "version": "3.9.16"
  },
  "orig_nbformat": 4,
  "vscode": {
   "interpreter": {
    "hash": "dbe801f353c66c2725433d0c6e806c19b88868366aa8b388f58f55da5c4d1071"
   }
  }
 },
 "nbformat": 4,
 "nbformat_minor": 2
}
